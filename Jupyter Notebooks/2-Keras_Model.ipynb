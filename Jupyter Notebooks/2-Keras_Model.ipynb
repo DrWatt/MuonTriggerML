{
 "cells": [
  {
   "cell_type": "code",
   "execution_count": null,
   "metadata": {},
   "outputs": [],
   "source": [
    "import numpy as np\n",
    "import pandas as pd\n",
    "import math\n",
    "import ROOT as root\n",
    "from keras.models import Sequential\n",
    "from keras.layers import Dense\n",
    "from keras.layers import Dropout\n",
    "from keras.layers import Activation\n",
    "from keras.wrappers.scikit_learn import KerasRegressor\n",
    "from sklearn.model_selection import cross_val_score\n",
    "from sklearn.model_selection import KFold\n",
    "from sklearn.model_selection import cross_val_predict\n",
    "from sklearn.model_selection import train_test_split\n",
    "from sklearn.preprocessing import StandardScaler\n",
    "from sklearn.pipeline import Pipeline\n",
    "from sklearn.metrics import mean_squared_error\n",
    "from keras import backend as K\n",
    "from keras.callbacks import History \n",
    "from keras.models import load_model\n",
    "from sklearn.utils import shuffle\n",
    "from sklearn import preprocessing\n",
    "from scipy.stats import gaussian_kde\n",
    "import matplotlib.pyplot as plt"
   ]
  },
  {
   "cell_type": "markdown",
   "metadata": {},
   "source": [
    "Loading csv data:"
   ]
  },
  {
   "cell_type": "code",
   "execution_count": null,
   "metadata": {},
   "outputs": [],
   "source": [
    "%cd ../output"
   ]
  },
  {
   "cell_type": "code",
   "execution_count": null,
   "metadata": {},
   "outputs": [],
   "source": [
    "out_dataframe = pd.read_csv('./bxcut_full_muon.csv')\n",
    "muon_dataframe_test = pd.read_csv('./bxcut_full_test.csv')"
   ]
  },
  {
   "cell_type": "markdown",
   "metadata": {},
   "source": [
    "Normalize the angle coordinates:"
   ]
  },
  {
   "cell_type": "code",
   "execution_count": null,
   "metadata": {},
   "outputs": [],
   "source": [
    "out_dataframe[\"1dtPrimitive.phiB\"] = out_dataframe[\"1dtPrimitive.phiB\"]/512.\n",
    "out_dataframe[\"2dtPrimitive.phiB\"] = out_dataframe[\"2dtPrimitive.phiB\"]/512.\n",
    "out_dataframe[\"3dtPrimitive.phiB\"] = out_dataframe[\"3dtPrimitive.phiB\"]/512.\n",
    "out_dataframe[\"4dtPrimitive.phiB\"] = out_dataframe[\"4dtPrimitive.phiB\"]/512.\n",
    "\n",
    "muon_dataframe_test[\"1dtPrimitive.phiB\"] = muon_dataframe_test[\"1dtPrimitive.phiB\"]/512.\n",
    "muon_dataframe_test[\"2dtPrimitive.phiB\"] = muon_dataframe_test[\"2dtPrimitive.phiB\"]/512.\n",
    "muon_dataframe_test[\"3dtPrimitive.phiB\"] = muon_dataframe_test[\"3dtPrimitive.phiB\"]/512.\n",
    "muon_dataframe_test[\"4dtPrimitive.phiB\"] = muon_dataframe_test[\"4dtPrimitive.phiB\"]/512."
   ]
  },
  {
   "cell_type": "markdown",
   "metadata": {},
   "source": [
    "Filter the particles with pt less than 200 GeV (just to confirm):"
   ]
  },
  {
   "cell_type": "code",
   "execution_count": null,
   "metadata": {},
   "outputs": [],
   "source": [
    "out_dataframe = out_dataframe[out_dataframe['genParticle.pt'] <= 200]\n",
    "muon_dataframe_test = muon_dataframe_test[muon_dataframe_test['genParticle.pt'] <= 200]"
   ]
  },
  {
   "cell_type": "code",
   "execution_count": null,
   "metadata": {},
   "outputs": [],
   "source": [
    "out_dataframe"
   ]
  },
  {
   "cell_type": "markdown",
   "metadata": {},
   "source": [
    "Function for the feature selection"
   ]
  },
  {
   "cell_type": "code",
   "execution_count": null,
   "metadata": {},
   "outputs": [],
   "source": [
    "def preprocess_features(muon_dataframe):\n",
    "  \"\"\"Prepares input features from Muon data set.\n",
    "\n",
    "  Args:\n",
    "    muon_dataframe: A Pandas DataFrame expected to contain data\n",
    "      from muon simulations\n",
    "  Returns:\n",
    "    A DataFrame that contains the features to be used for the model.\n",
    "  \"\"\"\n",
    "  selected_features = muon_dataframe[\n",
    "[#'Event',\n",
    " 'n_Primitive',\n",
    " '1dtPrimitive.id_r',\n",
    " '2dtPrimitive.id_r',\n",
    " '3dtPrimitive.id_r',\n",
    " '4dtPrimitive.id_r',\n",
    " '1dtPrimitive.id_eta',\n",
    " '2dtPrimitive.id_eta',\n",
    " '3dtPrimitive.id_eta',\n",
    " '4dtPrimitive.id_eta',\n",
    " '1dtPrimitive.id_phi',\n",
    " '2dtPrimitive.id_phi',\n",
    " '3dtPrimitive.id_phi',\n",
    " '4dtPrimitive.id_phi',\n",
    " '1dtPrimitive.phiB',\n",
    " '2dtPrimitive.phiB',\n",
    " '3dtPrimitive.phiB',\n",
    " '4dtPrimitive.phiB',\n",
    " '1dtPrimitive.quality',\n",
    " '2dtPrimitive.quality',\n",
    " '3dtPrimitive.quality',\n",
    " '4dtPrimitive.quality',\n",
    " 'delta_phi12',\n",
    " 'delta_phi13',\n",
    " 'delta_phi14',\n",
    " 'delta_phi23',\n",
    " 'delta_phi24',\n",
    " 'delta_phi34'\n",
    "  ]]\n",
    "  processed_features = selected_features.copy()\n",
    "  return processed_features.astype(np.float32)\n",
    "\n"
   ]
  },
  {
   "cell_type": "markdown",
   "metadata": {},
   "source": [
    "And target processing:"
   ]
  },
  {
   "cell_type": "code",
   "execution_count": null,
   "metadata": {},
   "outputs": [],
   "source": [
    "def preprocess_targets(muon_dataframe):\n",
    "  \"\"\"\n",
    "  Prepares target features (i.e., labels) from muon data set.\n",
    "\n",
    "  Args:\n",
    "    muon_dataframe: A Pandas DataFrame expected to contain data\n",
    "      from the Muon data set.\n",
    "  Returns:\n",
    "    A DataFrame that contains the target feature.\n",
    "  \"\"\"\n",
    "  output_targets = pd.DataFrame()\n",
    "  max_value = muon_dataframe[\"genParticle.pt\"].max()\n",
    "  min_value = muon_dataframe[\"genParticle.pt\"].min()\n",
    "  #output_targets[\"genParticle.pt\"] = (muon_dataframe[\"genParticle.pt\"]-min_value)/(max_value-min_value)\n",
    "  output_targets[\"genParticle.pt\"] = muon_dataframe[\"genParticle.pt\"]/200.\n",
    "  return output_targets.astype(np.float32)"
   ]
  },
  {
   "cell_type": "markdown",
   "metadata": {},
   "source": [
    "Select the datasets for the training and testing:"
   ]
  },
  {
   "cell_type": "code",
   "execution_count": null,
   "metadata": {},
   "outputs": [],
   "source": [
    "X = preprocess_features(out_dataframe)\n",
    "X_test = preprocess_features(muon_dataframe_test)"
   ]
  },
  {
   "cell_type": "code",
   "execution_count": null,
   "metadata": {},
   "outputs": [],
   "source": [
    "Y = preprocess_targets(out_dataframe)\n",
    "Y_test = preprocess_targets(muon_dataframe_test)\n",
    "Y_test = Y_test.fillna(0)"
   ]
  },
  {
   "cell_type": "markdown",
   "metadata": {},
   "source": [
    "Filter in quality (grouping between 0 and 1)"
   ]
  },
  {
   "cell_type": "code",
   "execution_count": null,
   "metadata": {},
   "outputs": [],
   "source": [
    "X.loc[X[\"1dtPrimitive.quality\"] < 4, '1dtPrimitive.quality'] = 0.0\n",
    "X.loc[X[\"1dtPrimitive.quality\"] >= 4, '1dtPrimitive.quality'] = 1.0\n",
    "X.loc[X[\"2dtPrimitive.quality\"] < 4, '2dtPrimitive.quality'] = 0.0\n",
    "X.loc[X[\"2dtPrimitive.quality\"] >= 4, '2dtPrimitive.quality'] = 1.0\n",
    "X.loc[X[\"3dtPrimitive.quality\"] < 4, '3dtPrimitive.quality'] = 0.0\n",
    "X.loc[X[\"3dtPrimitive.quality\"] >= 4, '3dtPrimitive.quality'] = 1.0\n",
    "X.loc[X[\"4dtPrimitive.quality\"] < 4, '4dtPrimitive.quality'] = 0.0\n",
    "X.loc[X[\"4dtPrimitive.quality\"] >= 4, '4dtPrimitive.quality'] = 1.0\n",
    "\n",
    "X_test.loc[X_test[\"1dtPrimitive.quality\"] < 4, '1dtPrimitive.quality'] = 0.0\n",
    "X_test.loc[X_test[\"1dtPrimitive.quality\"] >= 4, '1dtPrimitive.quality'] = 1.0\n",
    "X_test.loc[X_test[\"2dtPrimitive.quality\"] < 4, '2dtPrimitive.quality'] = 0.0\n",
    "X_test.loc[X_test[\"2dtPrimitive.quality\"] >= 4, '2dtPrimitive.quality'] = 1.0\n",
    "X_test.loc[X_test[\"3dtPrimitive.quality\"] < 4, '3dtPrimitive.quality'] = 0.0\n",
    "X_test.loc[X_test[\"3dtPrimitive.quality\"] >= 4, '3dtPrimitive.quality'] = 1.0\n",
    "X_test.loc[X_test[\"4dtPrimitive.quality\"] < 4, '4dtPrimitive.quality'] = 0.0\n",
    "X_test.loc[X_test[\"4dtPrimitive.quality\"] >= 4, '4dtPrimitive.quality'] = 1.0"
   ]
  },
  {
   "cell_type": "markdown",
   "metadata": {},
   "source": [
    "Definition of the keras neural network model:"
   ]
  },
  {
   "cell_type": "code",
   "execution_count": null,
   "metadata": {},
   "outputs": [],
   "source": [
    "def baseline_model(size,epochs,optimizer,X_training,y_training,X_validation,y_validation,output_name):\n",
    "    # create model\n",
    "    name=\"RMSE validation\"\n",
    "    name2=\"RMSE training\"\n",
    "    history = History()\n",
    "    model = Sequential()\n",
    "    model.add(Dense(1000, input_dim=27, kernel_initializer='random_normal', activation='sigmoid'))\n",
    "    model.add(Dropout(rate=0.2))\n",
    "    model.add(Dense(50, activation='sigmoid'))\n",
    "    model.add(Dropout(rate=0.2))\n",
    "    model.add(Dense(1, activation='sigmoid'))\n",
    "    # Compile model\n",
    "    model.compile(loss='mean_squared_error', optimizer=optimizer)\n",
    "    model.fit(x_train, y_train,\n",
    "          batch_size=size,\n",
    "          epochs=epochs,\n",
    "          verbose=1,\n",
    "          validation_data=(X_validation, y_validation),callbacks=[history])\n",
    "    train_predictions = model.predict(X_training)\n",
    "    predictions = model.predict(X_validation)\n",
    "    lin_mse = mean_squared_error(y_validation, predictions)\n",
    "    lin_rmse = np.sqrt(lin_mse)\n",
    "    lin_mse2 = mean_squared_error(y_training, train_predictions)\n",
    "    lin_rmse2 = np.sqrt(lin_mse2)\n",
    "    msg = \"%s: %f\" % (name, lin_rmse)\n",
    "    msg2 = \"%s: %f\" % (name2, lin_rmse2)\n",
    "    print(msg)\n",
    "    print(msg2)\n",
    "    fig,ax = plt.subplots()\n",
    "    xy=np.vstack([y_validation, predictions])\n",
    "    z=gaussian_kde(xy)(xy)\n",
    "    ax.scatter(y_validation, predictions, edgecolors=(0, 0, 0), c=z)\n",
    "    ax.set_title('Regression model predictions (validation set)')\n",
    "    ax.set_xlabel('Measured $p_T$ (GeV/c)')\n",
    "    ax.set_ylabel('Predicted $p_T$ (GeV/c)')\n",
    "    ax.plot([Y.min(), Y.max()], [Y.min(), Y.max()], 'k--', lw=4)\n",
    "    plt.rc('font', size=20)\n",
    "    plt.rc('axes', titlesize=18)\n",
    "    plt.rc('axes', labelsize=18)    \n",
    "    plt.rc('xtick', labelsize=18)   \n",
    "    plt.rc('ytick', labelsize=18)  \n",
    "    plt.rc('legend', fontsize=18)    \n",
    "    plt.rc('figure', titlesize=18)\n",
    "    plt.tight_layout()\n",
    "    plt.savefig('1'+ output_name,format='png',dpi=800)\n",
    "    fig2,ax2 = plt.subplots()\n",
    "    ax2.plot(history.history['loss'], label='loss')\n",
    "    ax2.plot(history.history['val_loss'], label='val_loss')\n",
    "    ax2.set_title('Training and Validation loss per epoch')\n",
    "    ax2.set_xlabel('# Epoch')\n",
    "    ax2.set_ylabel('loss')\n",
    "    plt.legend()\n",
    "    plt.tight_layout()\n",
    "    plt.savefig('2'+ output_name,format='png',dpi=800)\n",
    "    #plt.show()\n",
    "    del ax,ax2\n",
    "    return model"
   ]
  },
  {
   "cell_type": "markdown",
   "metadata": {},
   "source": [
    "Using train/valid split:"
   ]
  },
  {
   "cell_type": "code",
   "execution_count": null,
   "metadata": {},
   "outputs": [],
   "source": [
    "x_train, x_valid, y_train, y_valid = train_test_split(X, Y, test_size=0.2)"
   ]
  },
  {
   "cell_type": "markdown",
   "metadata": {},
   "source": [
    "Model training:"
   ]
  },
  {
   "cell_type": "code",
   "execution_count": null,
   "metadata": {
    "scrolled": false
   },
   "outputs": [],
   "source": [
    "model = baseline_model(300,250,'Adamax',x_train, y_train, x_valid, y_valid,'Adamax.png')\n",
    "model.save('./model/my_model1.h5')"
   ]
  },
  {
   "cell_type": "code",
   "execution_count": null,
   "metadata": {
    "scrolled": true
   },
   "outputs": [],
   "source": [
    "model = baseline_model(300,250,'Adagrad',x_train, y_train, x_valid, y_valid,'Adagrad.png')\n",
    "model.save('./model/my_model2.h5')"
   ]
  },
  {
   "cell_type": "code",
   "execution_count": null,
   "metadata": {
    "scrolled": false
   },
   "outputs": [],
   "source": [
    "model = baseline_model(300,250,'RMSprop',x_train, y_train, x_valid, y_valid,'RMSProp.png')\n",
    "model.save('./model/my_model3.h5')"
   ]
  },
  {
   "cell_type": "code",
   "execution_count": null,
   "metadata": {
    "scrolled": false
   },
   "outputs": [],
   "source": [
    "model = baseline_model(300,5,'Adam',x_train, y_train, x_valid, y_valid,'Adam.png')\n",
    "model.save('./model/my_model4.h5')"
   ]
  },
  {
   "cell_type": "code",
   "execution_count": null,
   "metadata": {},
   "outputs": [],
   "source": [
    "model = baseline_model(300,260,'SGD',x_train, y_train, x_valid, y_valid,'SGD.png')\n",
    "model.save('my_model_all5.h5')"
   ]
  },
  {
   "cell_type": "markdown",
   "metadata": {},
   "source": [
    "Model testing with indipendent dataset:"
   ]
  },
  {
   "cell_type": "code",
   "execution_count": null,
   "metadata": {},
   "outputs": [],
   "source": [
    "outputFile = root.TFile(\"prova.root\",\"recreate\")\n",
    "c1 = root.TCanvas(\"c1\",\"c1\");\n",
    "name=\"RMSE\"\n",
    "model = load_model('./model/my_model_mu4.h5')\n",
    "predictions = model.predict(X_test)\n",
    "lin_mse = mean_squared_error(Y_test, predictions)\n",
    "n=predictions.size\n",
    "predictions = predictions.astype('float')\n",
    "lalla = Y_test.values\n",
    "lalla = lalla.astype('float')\n",
    "lin_rmse = np.sqrt(lin_mse)\n",
    "msg = \"%s: %f\" % (name, lin_rmse)\n",
    "print(msg)\n",
    "fig,ax = plt.subplots()\n",
    "ax.scatter(Y_test*200, predictions*200, edgecolors=(0, 0, 0))\n",
    "plot = root.TGraph(n,lalla*200,predictions*200)\n",
    "plot.SetTitle(\"Machine Learning model predictions;Generated Muon p_{T} (GeV/c);Predicted Muon p_{T} (GeV/c)\")\n",
    "ax.set_title('Regression model predictions (test)')\n",
    "ax.set_xlabel('Measured $p_{T}$ (GeV/c)')\n",
    "ax.set_ylabel('Predicted $p_{T}$ (GeV/c)')\n",
    "ax.plot([Y.min()*200, Y.max()*200], [Y.min()*200, Y.max()*200], 'k--', lw=4)\n",
    "plt.rc('font', size=20)\n",
    "plt.rc('axes', titlesize=18)\n",
    "plt.rc('axes', labelsize=18)    \n",
    "plt.rc('xtick', labelsize=18)   \n",
    "plt.rc('ytick', labelsize=18)  \n",
    "plt.rc('legend', fontsize=18)\n",
    "plt.rc('figure', titlesize=18)\n",
    "plt.tight_layout()\n",
    "plt.savefig('validation.png',format='png',dpi=800)\n",
    "plot.Draw(\"AP\")\n",
    "c1.Update()\n",
    "c1.Write(\"test\")\n",
    "\n",
    "c2 = root.TCanvas(\"c2\",\"c2\");\n",
    "lallo = X_test[\"delta_phi12\"].values\n",
    "lallo = lallo.astype('float')\n",
    "plot2 = root.TGraph(n,lalla*200,lallo)\n",
    "plot2.SetTitle(\"Delta phi vs Generated p_{T};Generated Muon p_{T} (GeV/c);delta phi(MB2-MB1)\")\n",
    "plot2.Draw(\"AP\")\n",
    "c2.Update()\n",
    "c2.Write(\"test2\")\n",
    "\n",
    "outputFile.Write()\n",
    "outputFile.Close()"
   ]
  },
  {
   "cell_type": "code",
   "execution_count": null,
   "metadata": {},
   "outputs": [],
   "source": []
  }
 ],
 "metadata": {
  "kernelspec": {
   "display_name": "Python 2",
   "language": "python",
   "name": "python2"
  },
  "language_info": {
   "codemirror_mode": {
    "name": "ipython",
    "version": 2
   },
   "file_extension": ".py",
   "mimetype": "text/x-python",
   "name": "python",
   "nbconvert_exporter": "python",
   "pygments_lexer": "ipython2",
   "version": "2.7.14"
  }
 },
 "nbformat": 4,
 "nbformat_minor": 2
}
