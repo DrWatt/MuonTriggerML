{
 "cells": [
  {
   "cell_type": "markdown",
   "metadata": {},
   "source": [
    "# Regression Algorithms for Muon Data"
   ]
  },
  {
   "cell_type": "markdown",
   "metadata": {},
   "source": [
    "We will first check some linear regression algorithms (using the negative mean square error scorer)."
   ]
  },
  {
   "cell_type": "markdown",
   "metadata": {},
   "source": [
    "### Linear and non Linear Regression"
   ]
  },
  {
   "cell_type": "markdown",
   "metadata": {},
   "source": [
    "The ML algorithms used for linear regression are: linear regression, Lasso and the ElasticNet. The non linear regression algorithms are: KNeighbotsRegressor, DecisionTreeRegressor, SVR "
   ]
  },
  {
   "cell_type": "code",
   "execution_count": null,
   "metadata": {},
   "outputs": [],
   "source": [
    "from pandas import read_csv\n",
    "import numpy as np\n",
    "import pandas as pd\n",
    "from sklearn.model_selection import KFold\n",
    "from sklearn.model_selection import cross_val_score\n",
    "from sklearn.model_selection import cross_val_predict\n",
    "from sklearn.metrics import mean_squared_error\n",
    "np.random.seed(42) #Independent from run"
   ]
  },
  {
   "cell_type": "code",
   "execution_count": null,
   "metadata": {},
   "outputs": [],
   "source": [
    "from sklearn.linear_model import LinearRegression\n",
    "from sklearn.linear_model import Ridge\n",
    "from sklearn.linear_model import Lasso\n",
    "from sklearn.linear_model import ElasticNet\n",
    "from sklearn.ensemble import RandomForestRegressor\n",
    "from sklearn.neighbors import KNeighborsRegressor\n",
    "from sklearn.tree import DecisionTreeRegressor\n",
    "from sklearn.naive_bayes import GaussianNB\n",
    "from sklearn.utils import shuffle\n",
    "import matplotlib.pyplot as plt\n",
    "\n",
    "import os"
   ]
  },
  {
   "cell_type": "code",
   "execution_count": null,
   "metadata": {},
   "outputs": [],
   "source": [
    "from sklearn.model_selection import train_test_split"
   ]
  },
  {
   "cell_type": "markdown",
   "metadata": {},
   "source": [
    "Load the csv into a pandas dataframe"
   ]
  },
  {
   "cell_type": "code",
   "execution_count": null,
   "metadata": {},
   "outputs": [],
   "source": [
    "dataframe = pd.read_csv('../MuonPOGAnalysisTemplate/output/bxcut_full_muon.csv')\n",
    "array = dataframe.values\n",
    "dataframe"
   ]
  },
  {
   "cell_type": "markdown",
   "metadata": {},
   "source": [
    "The first option is divide the train/set in due different datasets."
   ]
  },
  {
   "cell_type": "code",
   "execution_count": null,
   "metadata": {},
   "outputs": [],
   "source": [
    "dataframe[\"1dtPrimitive.phiB\"] = dataframe[\"1dtPrimitive.phiB\"]/512.\n",
    "dataframe[\"2dtPrimitive.phiB\"] = dataframe[\"2dtPrimitive.phiB\"]/512.\n",
    "dataframe[\"3dtPrimitive.phiB\"] = dataframe[\"3dtPrimitive.phiB\"]/512.\n",
    "dataframe[\"4dtPrimitive.phiB\"] = dataframe[\"4dtPrimitive.phiB\"]/512."
   ]
  },
  {
   "cell_type": "code",
   "execution_count": null,
   "metadata": {},
   "outputs": [],
   "source": [
    "def preprocess_features(muon_dataframe):\n",
    "  \"\"\"Prepares input features from Muon data set.\n",
    "\n",
    "  Args:\n",
    "    muon_dataframe: A Pandas DataFrame expected to contain data\n",
    "      from muon simulations\n",
    "  Returns:\n",
    "    A DataFrame that contains the features to be used for the model.\n",
    "  \"\"\"\n",
    "  selected_features = muon_dataframe[\n",
    "[#'Event',\n",
    " 'n_Primitive',\n",
    " '1dtPrimitive.id_r',\n",
    " '2dtPrimitive.id_r',\n",
    " '3dtPrimitive.id_r',\n",
    " '4dtPrimitive.id_r',\n",
    " '1dtPrimitive.id_eta',\n",
    " '3dtPrimitive.id_eta',\n",
    " '4dtPrimitive.id_eta',\n",
    " '1dtPrimitive.id_phi',\n",
    " '2dtPrimitive.id_phi',\n",
    " '3dtPrimitive.id_phi',\n",
    " '4dtPrimitive.id_phi',\n",
    " '1dtPrimitive.phiB',\n",
    " '2dtPrimitive.phiB',\n",
    " '3dtPrimitive.phiB',\n",
    " '4dtPrimitive.phiB',\n",
    " '1dtPrimitive.quality',\n",
    " '2dtPrimitive.quality',\n",
    " '3dtPrimitive.quality',\n",
    " '4dtPrimitive.quality',\n",
    " 'delta_phi12',\n",
    " 'delta_phi13',\n",
    " 'delta_phi14',\n",
    " 'delta_phi23',\n",
    " 'delta_phi24',\n",
    " 'delta_phi34'\n",
    "  ]]\n",
    "  processed_features = selected_features.copy()\n",
    "  return processed_features.astype(np.float32)"
   ]
  },
  {
   "cell_type": "code",
   "execution_count": null,
   "metadata": {},
   "outputs": [],
   "source": [
    "def preprocess_targets(muon_dataframe):\n",
    "  \"\"\"\n",
    "  Prepares target features (i.e., labels) from muon data set.\n",
    "\n",
    "  Args:\n",
    "    muon_dataframe: A Pandas DataFrame expected to contain data\n",
    "      from the Muon data set.\n",
    "  Returns:\n",
    "    A DataFrame that contains the target feature.\n",
    "  \"\"\"\n",
    "  output_targets = pd.DataFrame()\n",
    "  output_targets[\"genParticle.pt\"] = muon_dataframe[\"genParticle.pt\"]/200\n",
    "  return output_targets.astype(np.float32)"
   ]
  },
  {
   "cell_type": "code",
   "execution_count": null,
   "metadata": {},
   "outputs": [],
   "source": [
    "X = preprocess_features(dataframe)\n",
    "Y = preprocess_targets(dataframe)"
   ]
  },
  {
   "cell_type": "code",
   "execution_count": null,
   "metadata": {},
   "outputs": [],
   "source": [
    "X_train, X_test, y_train, y_test = train_test_split(X, Y, test_size=0.2)"
   ]
  },
  {
   "cell_type": "code",
   "execution_count": null,
   "metadata": {},
   "outputs": [],
   "source": [
    "X.loc[X[\"1dtPrimitive.quality\"] < 4, '1dtPrimitive.quality'] = 0.0\n",
    "X.loc[X[\"1dtPrimitive.quality\"] >= 4, '1dtPrimitive.quality'] = 1.0\n",
    "X.loc[X[\"2dtPrimitive.quality\"] < 4, '2dtPrimitive.quality'] = 0.0\n",
    "X.loc[X[\"2dtPrimitive.quality\"] >= 4, '2dtPrimitive.quality'] = 1.0\n",
    "X.loc[X[\"3dtPrimitive.quality\"] < 4, '3dtPrimitive.quality'] = 0.0\n",
    "X.loc[X[\"3dtPrimitive.quality\"] >= 4, '3dtPrimitive.quality'] = 1.0\n",
    "X.loc[X[\"4dtPrimitive.quality\"] < 4, '4dtPrimitive.quality'] = 0.0\n",
    "X.loc[X[\"4dtPrimitive.quality\"] >= 4, '4dtPrimitive.quality'] = 1.0"
   ]
  },
  {
   "cell_type": "code",
   "execution_count": null,
   "metadata": {},
   "outputs": [],
   "source": [
    "lm = LinearRegression()\n",
    "model = lm.fit(X_train, y_train)\n",
    "predictions = lm.predict(X_test)\n",
    "\n",
    "## The line / model\n",
    "fig, ax = plt.subplots()\n",
    "ax.scatter(y_test, predictions)\n",
    "ax.plot([Y.min(), Y.max()], [Y.min(), Y.max()], 'k--', lw=4)\n",
    "ax.set_xlabel(\"True Values\")\n",
    "ax.set_ylabel(\"Predictions\")\n",
    "plt.show()\n",
    "del ax"
   ]
  },
  {
   "cell_type": "markdown",
   "metadata": {},
   "source": [
    "The other option is to use a Kfold for cross_validation"
   ]
  },
  {
   "cell_type": "code",
   "execution_count": null,
   "metadata": {},
   "outputs": [],
   "source": [
    "#prepare models\n",
    "models = []\n",
    "models.append(( 'LR' , LinearRegression()))\n",
    "models.append(( 'LAR' , Lasso()))\n",
    "models.append(( 'RIR' , Ridge()))\n",
    "models.append(( 'EN' , ElasticNet()))\n",
    "models.append(( 'KNR' , KNeighborsRegressor()))\n",
    "models.append(( 'DTR' , DecisionTreeRegressor()))\n",
    "\n",
    "#evaluate each model in turn\n",
    "values = [-0.170369,-0.109598,-0.105400,-0.108883]\n",
    "results = []\n",
    "names = []\n",
    "scoring = 'neg_mean_squared_error'\n",
    "for name,model in models:\n",
    "    kfold = KFold(n_splits=15, random_state=7)\n",
    "    cv_results = cross_val_score(model, X, Y, cv=kfold, scoring=scoring)\n",
    "    results.append(-np.sqrt(np.abs(cv_results)))\n",
    "    names.append(name)\n",
    "    msg = \"%s: %f (%f)\" % (name, np.sqrt((-1)*cv_results.mean()), np.sqrt(cv_results.std()))\n",
    "    print(msg)\n",
    "    predicted = cross_val_predict(model, X,Y, cv=kfold)\n",
    "    fig, ax = plt.subplots()\n",
    "    ax.scatter(Y, predicted, edgecolors=(0, 0, 0))\n",
    "    ax.plot([Y.min(), Y.max()], [Y.min(), Y.max()], 'k--', lw=4)\n",
    "    ax.set_xlabel('Measured')\n",
    "    ax.set_ylabel('Predicted')\n",
    "    plt.show()\n",
    "    del ax\n",
    "names.append('ANN')\n",
    "results.append(values)\n",
    "    # boxplot algorithm comparison\n",
    "fig = plt.figure()\n",
    "#fig.suptitle('Algorithm Comparison')\n",
    "ax = fig.add_subplot(111)\n",
    "plt.boxplot(results)\n",
    "ax.set_xticklabels(names)\n",
    "ax.set_xlabel('Algorithm')\n",
    "ax.set_ylabel('RMSE')\n",
    "plt.tight_layout()\n",
    "plt.savefig('output.png',format='png',dpi=800)\n",
    "#plt.show()\n"
   ]
  }
 ],
 "metadata": {
  "kernelspec": {
   "display_name": "Python 2",
   "language": "python",
   "name": "python2"
  },
  "language_info": {
   "codemirror_mode": {
    "name": "ipython",
    "version": 2
   },
   "file_extension": ".py",
   "mimetype": "text/x-python",
   "name": "python",
   "nbconvert_exporter": "python",
   "pygments_lexer": "ipython2",
   "version": "2.7.14"
  }
 },
 "nbformat": 4,
 "nbformat_minor": 2
}
